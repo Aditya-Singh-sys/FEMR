{
 "cells": [
  {
   "cell_type": "code",
   "execution_count": 1,
   "id": "e7548dcc",
   "metadata": {},
   "outputs": [],
   "source": [
    "import pandas as pd\n",
    "import random"
   ]
  },
  {
   "cell_type": "code",
   "execution_count": 16,
   "id": "f856fc83",
   "metadata": {},
   "outputs": [],
   "source": [
    "happy = pd.read_csv('happy.csv')\n",
    "sad = pd.read_csv('sad.csv')\n",
    "neutral = pd.read_csv('neutral.csv')\n",
    "angry = pd.read_csv('angry.csv')\n",
    "disgust = pd.read_csv('disgusted.csv')\n",
    "surprise = pd.read_csv('surprised.csv')\n",
    "fear = pd.read_csv('fearful.csv')"
   ]
  },
  {
   "cell_type": "code",
   "execution_count": 2,
   "id": "2519c5bb",
   "metadata": {},
   "outputs": [],
   "source": [
    "songs = {\n",
    "    'happy': [],\n",
    "    'sad': [],\n",
    "    'neutral': [],\n",
    "    'angry': [],\n",
    "    'disgusted': [],\n",
    "    'surprised': [],\n",
    "    'fearful': []\n",
    "}"
   ]
  },
  {
   "cell_type": "code",
   "execution_count": 3,
   "id": "ee0c3644",
   "metadata": {},
   "outputs": [],
   "source": [
    "lookup = ('angry', 'disgusted', 'fearful', 'happy', 'sad', 'surprised', 'neutral')"
   ]
  },
  {
   "cell_type": "code",
   "execution_count": 4,
   "id": "718b6850",
   "metadata": {},
   "outputs": [],
   "source": [
    "for emotion in lookup:\n",
    "    df = pd.read_csv(emotion + '.csv')\n",
    "    for i in df.index:\n",
    "        songs[emotion].append(df.iloc[i, 1] + \" by \" + df.iloc[i, 3])"
   ]
  },
  {
   "cell_type": "code",
   "execution_count": 5,
   "id": "3044948f",
   "metadata": {},
   "outputs": [],
   "source": [
    "import cv2\n",
    "import math\n",
    "\n",
    "import numpy as np\n",
    "import pandas as pd\n",
    "import matplotlib.pyplot as plt\n",
    "import seaborn as sns\n",
    "\n",
    "from sklearn.model_selection import train_test_split\n",
    "from sklearn.preprocessing import LabelEncoder\n",
    "from sklearn.metrics import classification_report, confusion_matrix\n",
    "\n",
    "import tensorflow as tf\n",
    "from tensorflow.keras.models import Sequential\n",
    "from tensorflow.keras.layers import Flatten, Dense, Conv2D, MaxPooling2D\n",
    "from tensorflow.keras.layers import Dropout, BatchNormalization, LeakyReLU, Activation\n",
    "from tensorflow.keras.callbacks import Callback, EarlyStopping, ReduceLROnPlateau\n",
    "from tensorflow.keras.preprocessing.image import ImageDataGenerator\n",
    "\n",
    "from keras.utils import np_utils\n",
    "\n",
    "from tensorflow import keras\n",
    "\n",
    "class cnn_core:\n",
    "    \n",
    "    def __init__(self, lookup, model):\n",
    "        \n",
    "        # Initiallize labels\n",
    "        self.lookup = lookup\n",
    "        \n",
    "        # Load model\n",
    "        self.model = model\n",
    "        \n",
    "    \n",
    "    # Function to map average emotions\n",
    "    def map(n):\n",
    "        pass\n",
    "\n",
    "    \n",
    "    # Function to predict emotion from n times\n",
    "    def predict_emotion(self, n):\n",
    "         \n",
    "        # Initiallize haarcascade\n",
    "        face_cascade=cv2.CascadeClassifier(cv2.data.haarcascades+\"haarcascade_frontalface_default.xml\")\n",
    "        # Cam\n",
    "        cam = cv2.VideoCapture(0)\n",
    "\n",
    "        pred = 0\n",
    "\n",
    "        reps = n\n",
    "\n",
    "        # Scan face n times\n",
    "        while cam.isOpened() and reps != 0:\n",
    "            _, frame = cam.read()\n",
    "\n",
    "            grayf=cv2.cvtColor(frame, cv2.COLOR_BGR2GRAY)\n",
    "            faces = face_cascade.detectMultiScale (frame ,1.3, 5)\n",
    "\n",
    "            for (x,y,w,h) in faces:\n",
    "                cv2.rectangle(frame, (x,y), (x+w,y+h), (0,255,0), 3)\n",
    "                face1 = grayf[y:y + h, x:x + w] \n",
    "                resized = cv2.resize(face1, (48,48))\n",
    "\n",
    "                p = np.array(resized)\n",
    "\n",
    "                p = p.reshape(1, 48, 48, 1)\n",
    "\n",
    "                p = np.float_(p)\n",
    "\n",
    "                p /= 255\n",
    "\n",
    "                print(lookup[model.predict(p).argmax()])\n",
    "\n",
    "                pred += model.predict(p).argmax() * (n - reps + 1)\n",
    "\n",
    "                reps -= 1\n",
    "\n",
    "            if cv2.waitKey(10)==ord('q'):\n",
    "                break\n",
    "\n",
    "            cv2.imshow('frame',frame)\n",
    "        \n",
    "        return round((pred / (n * (n+1) / 2)))\n",
    "\n",
    "        cv2.waitKey(0)\n",
    "        cv2.destroyAllWindows()"
   ]
  },
  {
   "cell_type": "code",
   "execution_count": 6,
   "id": "42f09e86",
   "metadata": {},
   "outputs": [],
   "source": [
    "model = keras.models.load_model('CNN_FERV3.1.h5')"
   ]
  },
  {
   "cell_type": "code",
   "execution_count": 7,
   "id": "d766f685",
   "metadata": {},
   "outputs": [],
   "source": [
    "cnn = cnn_core(lookup, model)"
   ]
  },
  {
   "cell_type": "code",
   "execution_count": 8,
   "id": "a7f25a60",
   "metadata": {},
   "outputs": [],
   "source": [
    "from tkinter import *\n",
    "#creating the application main window.\n",
    "top = Tk()"
   ]
  },
  {
   "cell_type": "code",
   "execution_count": 13,
   "id": "0cebe210",
   "metadata": {},
   "outputs": [
    {
     "name": "stdout",
     "output_type": "stream",
     "text": [
      "1/1 [==============================] - 0s 21ms/step\n",
      "neutral\n",
      "1/1 [==============================] - 0s 36ms/step\n",
      "1/1 [==============================] - 0s 43ms/step\n",
      "neutral\n",
      "1/1 [==============================] - 0s 57ms/step\n",
      "1/1 [==============================] - 0s 19ms/step\n",
      "neutral\n",
      "1/1 [==============================] - 0s 23ms/step\n",
      "1/1 [==============================] - 0s 20ms/step\n",
      "neutral\n",
      "1/1 [==============================] - 0s 22ms/step\n",
      "1/1 [==============================] - 0s 21ms/step\n",
      "neutral\n",
      "1/1 [==============================] - 0s 19ms/step\n",
      "1/1 [==============================] - 0s 25ms/step\n",
      "neutral\n",
      "1/1 [==============================] - 0s 22ms/step\n",
      "1/1 [==============================] - 0s 21ms/step\n",
      "neutral\n",
      "1/1 [==============================] - 0s 21ms/step\n",
      "1/1 [==============================] - 0s 20ms/step\n",
      "neutral\n",
      "1/1 [==============================] - 0s 25ms/step\n",
      "1/1 [==============================] - 0s 22ms/step\n",
      "sad\n",
      "1/1 [==============================] - 0s 28ms/step\n",
      "1/1 [==============================] - 0s 19ms/step\n",
      "sad\n",
      "1/1 [==============================] - 0s 30ms/step\n",
      "1/1 [==============================] - 0s 20ms/step\n",
      "sad\n",
      "1/1 [==============================] - 0s 20ms/step\n",
      "1/1 [==============================] - 0s 18ms/step\n",
      "sad\n",
      "1/1 [==============================] - 0s 19ms/step\n",
      "1/1 [==============================] - 0s 20ms/step\n",
      "happy\n",
      "1/1 [==============================] - 0s 36ms/step\n",
      "1/1 [==============================] - 0s 22ms/step\n",
      "happy\n",
      "1/1 [==============================] - 0s 30ms/step\n",
      "1/1 [==============================] - 0s 18ms/step\n",
      "happy\n",
      "1/1 [==============================] - 0s 19ms/step\n",
      "1/1 [==============================] - 0s 18ms/step\n",
      "neutral\n",
      "1/1 [==============================] - 0s 22ms/step\n"
     ]
    }
   ],
   "source": [
    "import tkinter as tk\n",
    "\n",
    "# tkinter GUI\n",
    "root= tk.Tk()\n",
    "#Make a Canvas (i.e, a screen for your project\n",
    "canvas1 = tk.Canvas(root, width = 500, height = 500)\n",
    "canvas1.pack()\n",
    "\n",
    "# Popularity label and input box\n",
    "label1 = Label(root, text='Welcome to FEMR')\n",
    "label2 = Label(root, text='Press scan to start')\n",
    "canvas1.create_window(250, 100, window=label1)\n",
    "canvas1.create_window(250, 120, window=label2)\n",
    "\n",
    "mood_label = Label(root, text='')\n",
    "rec_playlist_title = Label(root, text='')\n",
    "playlist_label = Label(root, text='')\n",
    "\n",
    "canvas1.create_window(250, 180, window=mood_label)\n",
    "    \n",
    "canvas1.create_window(250, 200, window=rec_playlist_title)\n",
    "    \n",
    "canvas1.create_window(250, 300, window=playlist_label)\n",
    "\n",
    "def reset(): \n",
    "    pass\n",
    "    \n",
    "def scan():\n",
    "    \n",
    "    pred = cnn.predict_emotion(8)\n",
    "    \n",
    "    mood = lookup[pred]\n",
    "    \n",
    "    rec_playlist = playlist(songs[mood])\n",
    "    \n",
    "    mood_label.config(text = mood)\n",
    "    rec_playlist_title.config(text = 'Recommended Playlist')\n",
    "    playlist_label.config(text = playlist(songs[mood]))\n",
    "\n",
    "    \n",
    "\n",
    "    \n",
    "button1 = Button (root, text='Scan',command=scan, bg='#A4DE02')\n",
    "canvas1.create_window(250, 150, window=button1)\n",
    "\n",
    "\n",
    "\n",
    "root.mainloop()"
   ]
  },
  {
   "cell_type": "code",
   "execution_count": 63,
   "id": "48073907",
   "metadata": {},
   "outputs": [],
   "source": []
  },
  {
   "cell_type": "code",
   "execution_count": 66,
   "id": "ae839832",
   "metadata": {},
   "outputs": [
    {
     "name": "stdout",
     "output_type": "stream",
     "text": [
      "['Heathens by Twenty One Pilots', 'Attention by Charlie Puth', \"There's Nothing Holdin' Me Back by Shawn Mendes\", 'Believer by Imagine Dragons', 'Galway Girl by Ed Sheeran', 'Faded by Alan Walker', 'Symphony (feat. Zara Larsson) by Clean Bandit', 'Fight Song by Rachel Platten', 'Rockabye (feat. Sean Paul & Anne-Marie) by Clean Bandit', 'Shape of You by Ed Sheeran']\n"
     ]
    }
   ],
   "source": []
  },
  {
   "cell_type": "code",
   "execution_count": 10,
   "id": "800a6fcd",
   "metadata": {},
   "outputs": [],
   "source": [
    "def playlist(list):\n",
    "    text = \"\"\n",
    "    i = random.randint(0, len(list) - 10)\n",
    "    for item in list[i:i+10]:\n",
    "        text += item + \"\\n\"\n",
    "\n",
    "    return text"
   ]
  },
  {
   "cell_type": "code",
   "execution_count": 133,
   "id": "1a5897d3",
   "metadata": {},
   "outputs": [
    {
     "name": "stdout",
     "output_type": "stream",
     "text": [
      "24K Magic by Bruno Mars\n",
      "Friends (with BloodPop®) by Justin Bieber\n",
      "Look What You Made Me Do by Taylor Swift\n",
      "Sorry Not Sorry by Demi Lovato\n",
      "Starboy by The Weeknd\n",
      "Perfect Strangers by Jonas Blue\n",
      "Issues by Julia Michaels\n",
      "My Way by Calvin Harris\n",
      "Ride by Twenty One Pilots\n",
      "More Than You Know by Axwell /\\ Ingrosso\n",
      "\n"
     ]
    }
   ],
   "source": [
    "print(playlist(songs['neutral']))"
   ]
  },
  {
   "cell_type": "code",
   "execution_count": null,
   "id": "9b7b51cb",
   "metadata": {},
   "outputs": [],
   "source": []
  },
  {
   "cell_type": "code",
   "execution_count": null,
   "id": "36d41646",
   "metadata": {},
   "outputs": [],
   "source": []
  },
  {
   "cell_type": "code",
   "execution_count": null,
   "id": "98c114c6",
   "metadata": {},
   "outputs": [],
   "source": []
  }
 ],
 "metadata": {
  "kernelspec": {
   "display_name": "Python 3 (ipykernel)",
   "language": "python",
   "name": "python3"
  },
  "language_info": {
   "codemirror_mode": {
    "name": "ipython",
    "version": 3
   },
   "file_extension": ".py",
   "mimetype": "text/x-python",
   "name": "python",
   "nbconvert_exporter": "python",
   "pygments_lexer": "ipython3",
   "version": "3.9.7"
  }
 },
 "nbformat": 4,
 "nbformat_minor": 5
}
